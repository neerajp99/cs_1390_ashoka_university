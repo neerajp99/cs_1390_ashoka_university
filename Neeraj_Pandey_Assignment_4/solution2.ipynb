{
 "cells": [
  {
   "cell_type": "code",
   "execution_count": 27,
   "metadata": {},
   "outputs": [],
   "source": [
    "import numpy as np\n",
    "import pandas as pd \n",
    "from sklearn.preprocessing import LabelEncoder\n",
    "from sklearn.model_selection import train_test_split\n",
    "from sklearn.tree import DecisionTreeClassifier\n",
    "from sklearn.ensemble import RandomForestClassifier\n",
    "from sklearn.metrics import accuracy_score\n",
    "from sklearn.metrics import confusion_matrix\n",
    "from sklearn.metrics import precision_score\n",
    "from sklearn.metrics import recall_score\n",
    "from sklearn.metrics import f1_score"
   ]
  },
  {
   "cell_type": "code",
   "execution_count": 28,
   "metadata": {},
   "outputs": [],
   "source": [
    "data = pd.read_csv('wdbc.data', header=None)"
   ]
  },
  {
   "cell_type": "code",
   "execution_count": 29,
   "metadata": {},
   "outputs": [],
   "source": [
    "# Shuffle the DataFrame rows \n",
    "data = data.sample(frac = 1) "
   ]
  },
  {
   "cell_type": "code",
   "execution_count": 30,
   "metadata": {},
   "outputs": [],
   "source": [
    "# Pre-process the data \n",
    "X = data.drop(data.columns[1], axis=1)\n",
    "X = np.array(X)\n",
    "X = X.astype(float) \n",
    "Y = data[1]\n",
    "# Convert benign and malignant characters to 0's and 1's from B's and M's\n",
    "# for i, val in enumerate(Y):\n",
    "#     if val == \"B\":\n",
    "#         Y[i] = 0\n",
    "#     else:\n",
    "#         Y[i] = 1\n",
    "# Scikit learn label encoder can also be used for this purpose\n",
    "le_Y = LabelEncoder()\n",
    "Y = le_Y.fit_transform(Y)\n",
    "# Converting into a numpy array \n",
    "Y = np.array(Y)\n",
    "# Cast a numpy array to a specified float dtype, else unknown error will be thrown\n",
    "Y = Y.astype(float) "
   ]
  },
  {
   "cell_type": "code",
   "execution_count": 31,
   "metadata": {},
   "outputs": [],
   "source": [
    "# Custom Method to split data into 70% Train and 30% Test data\n",
    "# def split_data(df, X, Y):\n",
    "#     arr_rand = np.random.rand(df.shape[0])\n",
    "#     split = arr_rand < np.percentile(arr_rand, 80)\n",
    "    \n",
    "#     X_train = X[split]\n",
    "#     Y_train = Y[split]\n",
    "#     X_test =  X[~split]\n",
    "#     Y_test = Y[~split]\n",
    "\n",
    "#     return X_train, Y_train, X_test, Y_test\n",
    "\n",
    "# We can also split using a custom function\n",
    "# X_train, Y_train, X_test, Y_test = split_data(data, X, Y) "
   ]
  },
  {
   "cell_type": "code",
   "execution_count": 32,
   "metadata": {},
   "outputs": [],
   "source": [
    "# Using skikit learn train_test_split function\n",
    "X_train, X_test, Y_train, Y_test = train_test_split(X, Y, test_size = 0.2, random_state = 0)"
   ]
  },
  {
   "cell_type": "code",
   "execution_count": 33,
   "metadata": {},
   "outputs": [],
   "source": [
    "# Fitting a decision tree classifier\n",
    "clf_dt = DecisionTreeClassifier(random_state = 0, criterion=\"entropy\")\n",
    "clf_dt.fit(X_train, Y_train)\n",
    "# Predicting the y-values\n",
    "Y_prediction_dt = clf_dt.predict(X_test)"
   ]
  },
  {
   "cell_type": "code",
   "execution_count": 34,
   "metadata": {},
   "outputs": [
    {
     "name": "stdout",
     "output_type": "stream",
     "text": [
      "Accuracy of Decision Tree:  93.85964912280701 %\n",
      "Confusion Matrix for Decision Tree:\n",
      " [[60  1]\n",
      " [ 6 47]]\n",
      "Precision Score for Decision Tree:  0.9791666666666666\n",
      "Recall Score for Decision Tree:  0.8867924528301887\n",
      "F-1 Score:  0.9306930693069307\n"
     ]
    }
   ],
   "source": [
    "# Getting the accuracy of the model\n",
    "print('Accuracy of Decision Tree: ', accuracy_score(Y_test, Y_prediction_dt) * 100, '%')\n",
    "# 0.92\n",
    "\n",
    "# # Getting the confusion matrix\n",
    "print('Confusion Matrix for Decision Tree:\\n', confusion_matrix(Y_test, Y_prediction_dt))\n",
    "\n",
    "# # Precision score\n",
    "print('Precision Score for Decision Tree: ', precision_score(Y_test, Y_prediction_dt))\n",
    "\n",
    "# # Recall score\n",
    "print('Recall Score for Decision Tree: ', recall_score(Y_test, Y_prediction_dt))\n",
    "\n",
    "# F-1 Score\n",
    "print('F-1 Score: ', f1_score(Y_test, Y_prediction_dt))\n",
    "\n",
    "# TRUE POSITIVE"
   ]
  },
  {
   "cell_type": "code",
   "execution_count": 35,
   "metadata": {},
   "outputs": [],
   "source": [
    "# Random forest classifier for 200 trees\n",
    "clf_rf = RandomForestClassifier(n_estimators = 200, random_state = 0, criterion=\"entropy\")\n",
    "clf_rf.fit(X_train, Y_train)\n",
    "# Predicting the y-values\n",
    "Y_prediction_rf = clf_rf.predict(X_test)"
   ]
  },
  {
   "cell_type": "code",
   "execution_count": 36,
   "metadata": {},
   "outputs": [
    {
     "name": "stdout",
     "output_type": "stream",
     "text": [
      "Accuracy of Random Forest:  96.49122807017544 %\n",
      "Confusion Matrix for Random Forest:\n",
      " [[61  0]\n",
      " [ 4 49]]\n",
      "Precision Score for Random Forest:  1.0\n",
      "Recall Score for Random Forest:  0.9245283018867925\n",
      "F-1 score:  0.9607843137254902\n"
     ]
    }
   ],
   "source": [
    "# Getting the accuracy of the model\n",
    "print('Accuracy of Random Forest: ', accuracy_score(Y_test, Y_prediction_rf) * 100, '%')\n",
    "# 0.97\n",
    "\n",
    "# # Getting the confusion matrix\n",
    "print('Confusion Matrix for Random Forest:\\n', confusion_matrix(Y_test, Y_prediction_rf))\n",
    "\n",
    "# # Precision score\n",
    "print('Precision Score for Random Forest: ', precision_score(Y_test, Y_prediction_rf))\n",
    "\n",
    "# # Recall score\n",
    "print('Recall Score for Random Forest: ', recall_score(Y_test, Y_prediction_rf))\n",
    "\n",
    "# F-1 score\n",
    "print('F-1 score: ', f1_score(Y_test, Y_prediction_rf))\n",
    "\n",
    "# # TRUE POSITIVE"
   ]
  }
 ],
 "metadata": {
  "kernelspec": {
   "display_name": "Python 3",
   "language": "python",
   "name": "python3"
  },
  "language_info": {
   "codemirror_mode": {
    "name": "ipython",
    "version": 3
   },
   "file_extension": ".py",
   "mimetype": "text/x-python",
   "name": "python",
   "nbconvert_exporter": "python",
   "pygments_lexer": "ipython3",
   "version": "3.7.6"
  }
 },
 "nbformat": 4,
 "nbformat_minor": 2
}
