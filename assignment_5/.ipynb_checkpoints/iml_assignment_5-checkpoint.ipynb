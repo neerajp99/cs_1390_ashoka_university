{
 "cells": [
  {
   "cell_type": "code",
   "execution_count": 1,
   "metadata": {
    "colab": {
     "base_uri": "https://localhost:8080/",
     "height": 51
    },
    "id": "AXRonx3oV_UA",
    "outputId": "3edddab1-6961-424b-9953-0118685bfe82"
   },
   "outputs": [
    {
     "name": "stderr",
     "output_type": "stream",
     "text": [
      "[nltk_data] Downloading package brown to /Users/neeraj/nltk_data...\n",
      "[nltk_data]   Package brown is already up-to-date!\n"
     ]
    }
   ],
   "source": [
    "# Import libraries \n",
    "import gensim\n",
    "import nltk \n",
    "nltk.download('brown')\n",
    "from nltk.corpus import brown    \n",
    "import math"
   ]
  },
  {
   "cell_type": "code",
   "execution_count": 2,
   "metadata": {
    "id": "WY2rinZJWH2N"
   },
   "outputs": [],
   "source": [
    "# Create the model\n",
    "model = gensim.models.Word2Vec(brown.sents())"
   ]
  },
  {
   "cell_type": "markdown",
   "metadata": {},
   "source": [
    "### Solution 1 "
   ]
  },
  {
   "cell_type": "code",
   "execution_count": 3,
   "metadata": {
    "colab": {
     "base_uri": "https://localhost:8080/",
     "height": 122
    },
    "id": "-RlCWSxWXj2-",
    "outputId": "6cf1f4e0-e399-4e6d-8cae-b96357196132"
   },
   "outputs": [
    {
     "data": {
      "text/plain": [
       "[('Washington', 0.9638077616691589),\n",
       " ('Council', 0.9540385007858276),\n",
       " ('October', 0.9526122808456421)]"
      ]
     },
     "execution_count": 3,
     "metadata": {},
     "output_type": "execute_result"
    }
   ],
   "source": [
    "# Find the most closest values with their similarity score of word 'University' \n",
    "university_model = model.wv.most_similar('University', topn=3)\n",
    "university_model"
   ]
  },
  {
   "cell_type": "code",
   "execution_count": 4,
   "metadata": {
    "colab": {
     "base_uri": "https://localhost:8080/",
     "height": 34
    },
    "id": "gnm9AFUz7L0s",
    "outputId": "d788407d-fbf7-4cda-d1f9-9f20aa1e4c5a"
   },
   "outputs": [
    {
     "name": "stdout",
     "output_type": "stream",
     "text": [
      "Closest words to University is Washington , Council , October\n"
     ]
    }
   ],
   "source": [
    "print('Closest words to University is', university_model[0][0], ',', university_model[1][0], ',', university_model[2][0])"
   ]
  },
  {
   "cell_type": "code",
   "execution_count": 22,
   "metadata": {},
   "outputs": [
    {
     "name": "stdout",
     "output_type": "stream",
     "text": [
      "Vector representation of the 3 closest words to University \n",
      "\n",
      "Washington :  [ 0.49716982 -0.42585054  0.08323481  0.10352299 -0.25533977  0.6077659\n",
      " -0.08089456  0.16586107  0.05216651 -0.49611604 -0.40682608  0.35951295\n",
      "  0.02428868  0.07807455  0.09174668  0.28519535  0.09284224 -0.11648043\n",
      "  0.32557985 -0.8308187  -0.08384501  0.2904458  -0.6562233  -0.087545\n",
      " -0.08076471 -0.14943486 -0.178747    0.3934546   0.0297931  -0.67429876\n",
      " -0.04128895 -0.2432789   0.23787217 -0.3863498  -0.19525793  0.9159081\n",
      "  0.25508282  0.7352482   0.7197636  -0.4147498   0.07213932  0.3877506\n",
      "  0.04626058 -0.01878464  0.9832308  -0.0623173   0.93342495 -0.38645333\n",
      "  0.38882232  0.24863297 -0.09220978 -0.4810819  -0.13922788 -0.35362527\n",
      " -0.23228385 -0.6122477   0.29403326  0.11459679 -0.45848593 -0.13154258\n",
      "  0.36245915  0.3604623   0.37280113 -0.23953901  0.16184399 -0.07487587\n",
      " -0.5470611  -0.16771756 -0.20497559 -0.51934946  0.1334993  -0.3065787\n",
      "  0.06057164  0.14525113  0.34187692  0.39261025  0.16211589 -0.42945492\n",
      " -0.06556729 -0.21175615  0.76515806 -0.1752997  -0.34227562 -0.14122362\n",
      " -0.11172736 -0.25700685  0.5667049   0.12485053 -0.68032146 -0.29697362\n",
      "  0.35850772 -0.5189183   0.5184691   0.0471779  -0.39170784  0.11266027\n",
      "  0.14426616 -0.7180032  -0.20143682 -0.35397807]\n",
      "Council :  [ 4.00800049e-01 -4.29108143e-01  1.16125546e-01  2.54047632e-01\n",
      " -1.58692837e-01  3.83961260e-01 -8.67255256e-02  1.16124250e-01\n",
      " -1.84674188e-01 -2.32351765e-01 -2.59946495e-01  4.26020660e-02\n",
      "  6.69030249e-02  1.37285188e-01  4.96119075e-02  4.38327879e-01\n",
      "  1.68484956e-01 -1.76556539e-02  1.16164356e-01 -5.49985588e-01\n",
      " -7.76959285e-02  1.89840496e-01 -3.99729878e-01 -2.72827446e-02\n",
      " -2.31062457e-01 -1.29161865e-01 -1.21763475e-01  1.95225626e-01\n",
      " -6.89162815e-04 -4.37091529e-01  1.47850797e-01 -4.05022681e-01\n",
      " -1.00959942e-01 -2.92064905e-01 -5.04209176e-02  7.56291986e-01\n",
      "  1.82820871e-01  5.30680239e-01  5.19126236e-01 -1.28463004e-03\n",
      " -2.06528585e-02  1.07657738e-01 -1.99551396e-02  4.61959951e-02\n",
      "  6.45991862e-01 -2.16696396e-01  7.46430993e-01 -2.70888567e-01\n",
      "  1.23831674e-01  1.03167541e-01 -5.09292930e-02 -3.93547386e-01\n",
      " -2.64149159e-02 -3.98231894e-01 -1.64307162e-01 -5.28162837e-01\n",
      "  1.33339306e-02  2.11746208e-02 -5.31716526e-01 -3.10239717e-02\n",
      "  3.84216905e-01  1.88493833e-01  3.25137287e-01 -9.54970345e-03\n",
      "  2.50131547e-01 -1.33098334e-01 -3.57975751e-01 -4.49501351e-02\n",
      " -1.83260426e-01 -2.91425198e-01  9.70785096e-02 -2.71963209e-01\n",
      "  2.66448501e-02  1.32442817e-01  3.09833348e-01  2.00657576e-01\n",
      "  1.53544590e-01 -3.73617440e-01 -2.07498446e-01  1.29925504e-01\n",
      "  6.50079608e-01 -1.39385179e-01 -2.50879616e-01 -2.30617180e-01\n",
      " -6.37559965e-02 -2.50649482e-01  4.00452286e-01  7.71391839e-02\n",
      " -4.65457529e-01 -8.45025405e-02  1.20440781e-01 -2.30575249e-01\n",
      "  4.83275324e-01  4.69982550e-02 -1.79649547e-01  2.49954555e-02\n",
      " -5.14736213e-02 -4.04858738e-01 -2.27500618e-01 -4.39113528e-01]\n",
      "October :  [ 4.64464694e-01 -2.59534717e-01  8.68821144e-02  4.76967469e-02\n",
      " -8.37805793e-02  3.69682461e-01 -6.01975285e-02  1.17720231e-01\n",
      " -7.39005357e-02 -2.58295029e-01 -2.83831477e-01  1.96323231e-01\n",
      "  8.07863697e-02  1.21665590e-01  1.67314276e-01  2.84780890e-01\n",
      "  1.25718132e-01  3.98656502e-02  1.84981003e-01 -5.07850528e-01\n",
      " -4.68846411e-02  1.36724547e-01 -4.18476731e-01 -6.78973049e-02\n",
      " -1.67428002e-01 -1.75235957e-01 -5.95091060e-02  2.01874122e-01\n",
      "  7.73117468e-02 -5.19607067e-01 -1.04432814e-01 -3.07606399e-01\n",
      " -1.53173869e-02 -2.98005462e-01 -1.97616488e-01  5.74353516e-01\n",
      "  2.39658058e-01  4.90164459e-01  4.79396909e-01 -2.39721656e-01\n",
      "  1.31177112e-01  5.63290417e-02 -5.59730418e-02  6.65565208e-02\n",
      "  7.23189235e-01 -1.39120117e-01  6.19741619e-01 -1.93029478e-01\n",
      "  2.13410318e-01  1.24626189e-01 -6.16070665e-02 -4.27587420e-01\n",
      " -1.32349700e-01 -2.54949600e-01 -1.73312679e-01 -5.27238548e-01\n",
      "  1.17766827e-01  4.27068137e-02 -3.49332869e-01 -5.39228246e-02\n",
      "  4.30368662e-01  1.45133704e-01  2.81432450e-01 -6.61765411e-02\n",
      "  1.99107260e-01 -8.55262056e-02 -3.82796437e-01 -2.67519969e-02\n",
      " -5.19965328e-02 -2.13249594e-01 -1.56100718e-02 -2.05749527e-01\n",
      " -5.70539087e-02  1.81099435e-03  2.67989874e-01  2.60279715e-01\n",
      "  2.02930927e-01 -2.16538161e-01 -1.54575706e-01  7.88159966e-02\n",
      "  5.14905274e-01 -8.19624513e-02 -1.94583386e-01 -1.73858896e-01\n",
      " -1.37741223e-01 -8.44617411e-02  2.78209060e-01  1.63735792e-01\n",
      " -3.32553387e-01 -1.14650227e-01  1.84745774e-01 -3.21837008e-01\n",
      "  3.10804456e-01 -1.60820637e-05 -1.53260380e-01 -9.08422936e-03\n",
      "  1.00503966e-01 -4.35549378e-01 -1.75103754e-01 -2.98959285e-01]\n"
     ]
    }
   ],
   "source": [
    "# Closest words respective vector embeddings \n",
    "print(\"Vector representation of the 3 closest words to University \\n\")\n",
    "for i, val in enumerate(university_model):\n",
    "    print(val[0], \": \", model.wv[val[0]] )"
   ]
  },
  {
   "cell_type": "code",
   "execution_count": 5,
   "metadata": {
    "colab": {
     "base_uri": "https://localhost:8080/",
     "height": 71
    },
    "id": "oA4_rrfwE97W",
    "outputId": "beab7594-9e88-4aeb-a199-75fb50dbc4f8"
   },
   "outputs": [],
   "source": [
    "# Calculaing the cosine similarity between the word 'University' and the top 3 closest words to it\n",
    "cosine_university = dict()\n",
    "for i, val  in enumerate(university_model):\n",
    "  cosine_university[val[0]] = model.wv.similarity('University', val[0])"
   ]
  },
  {
   "cell_type": "code",
   "execution_count": 6,
   "metadata": {
    "colab": {
     "base_uri": "https://localhost:8080/",
     "height": 68
    },
    "id": "_kcmZI5qE_OH",
    "outputId": "b2c01fca-a285-45a9-a554-f5f5d5198853"
   },
   "outputs": [
    {
     "name": "stdout",
     "output_type": "stream",
     "text": [
      "Cosine similarity between Univerity and  Washington is:  0.9638078\n",
      "Cosine similarity between Univerity and  Council is:  0.95403844\n",
      "Cosine similarity between Univerity and  October is:  0.9526122\n"
     ]
    }
   ],
   "source": [
    "for i, val in enumerate(cosine_university):\n",
    "  print('Cosine similarity between Univerity and ', val, 'is: ', cosine_university[val])"
   ]
  },
  {
   "cell_type": "markdown",
   "metadata": {},
   "source": [
    "### Solution 2"
   ]
  },
  {
   "cell_type": "code",
   "execution_count": 7,
   "metadata": {
    "colab": {
     "base_uri": "https://localhost:8080/",
     "height": 122
    },
    "id": "wvxK8cLRXnO2",
    "outputId": "2b8d8019-f561-4094-da43-5685711e83ed"
   },
   "outputs": [
    {
     "data": {
      "text/plain": [
       "[('catalogue', 0.9559360146522522),\n",
       " ('neighborhood', 0.9547332525253296),\n",
       " ('U.N.', 0.9464417099952698)]"
      ]
     },
     "execution_count": 7,
     "metadata": {},
     "output_type": "execute_result"
    }
   ],
   "source": [
    "# Find the most closest values with their similarity score of word 'Nation' \n",
    "nation_model = model.wv.most_similar('Nation', topn=3)\n",
    "nation_model"
   ]
  },
  {
   "cell_type": "code",
   "execution_count": 8,
   "metadata": {
    "id": "HslFjK5mY96v"
   },
   "outputs": [
    {
     "name": "stdout",
     "output_type": "stream",
     "text": [
      "Closest words to Nation is catalogue , neighborhood , U.N.\n"
     ]
    }
   ],
   "source": [
    "print('Closest words to Nation is', nation_model[0][0], ',', nation_model[1][0], ',', nation_model[2][0])"
   ]
  },
  {
   "cell_type": "code",
   "execution_count": 23,
   "metadata": {},
   "outputs": [
    {
     "name": "stdout",
     "output_type": "stream",
     "text": [
      "Vector representation of the 3 closest words to Nation \n",
      "\n",
      "catalogue :  [ 0.04056375 -0.01493865  0.00630451 -0.00171918 -0.03782256  0.10885008\n",
      " -0.04447531  0.04406632 -0.02200099 -0.0750473  -0.06266903 -0.02573452\n",
      "  0.00146428  0.00674119  0.02931802  0.08856054  0.03957025  0.02623863\n",
      " -0.00309727 -0.1295172   0.03528687  0.07330748 -0.06028573  0.00918833\n",
      " -0.02488657 -0.00565309  0.00770795  0.05468954  0.00951621 -0.04983919\n",
      " -0.00581254 -0.0785844   0.00504898 -0.04147714 -0.00992229  0.11717331\n",
      "  0.08415706  0.04021483  0.07053164  0.01434959  0.00105007 -0.01873846\n",
      "  0.02443228  0.02366338  0.11383554 -0.06032849  0.05919428  0.01276661\n",
      " -0.00226724  0.04031739 -0.03388565 -0.05869786  0.00953928 -0.1439253\n",
      " -0.05219879 -0.0558139  -0.02867305  0.01241088 -0.03367278 -0.02203539\n",
      "  0.08589441  0.06759349 -0.009728    0.02463404  0.05160297 -0.02422581\n",
      " -0.05023214  0.01762513  0.03469793 -0.0234577  -0.01226948 -0.10161763\n",
      " -0.07492466 -0.05357776  0.0889714   0.03005281  0.01618435 -0.03721964\n",
      " -0.02578796  0.03607513  0.0863637   0.0160924  -0.02754718 -0.0461315\n",
      " -0.00496148 -0.06829627 -0.00155831  0.04233782 -0.02936254  0.00307988\n",
      "  0.00663066 -0.05559738  0.04172946  0.03414162 -0.05185531 -0.01531855\n",
      " -0.00689578 -0.07602732 -0.00354068  0.02378767]\n",
      "neighborhood :  [ 2.40319923e-01 -2.71094143e-02  1.50364786e-01  1.02199480e-01\n",
      " -1.94415882e-01  4.46576089e-01 -2.17447698e-01  2.10778818e-01\n",
      " -7.77955279e-02 -2.75882602e-01 -2.36152902e-01 -4.34286036e-02\n",
      "  4.94021573e-04  5.03227524e-02  2.15278119e-02  2.86528438e-01\n",
      "  1.56890616e-01  9.62401032e-02 -2.78151892e-02 -5.35759211e-01\n",
      "  6.34735124e-03  3.46099615e-01 -3.20632696e-01  6.04751818e-02\n",
      " -1.60169393e-01  1.36253622e-03  9.43010673e-02  1.74185082e-01\n",
      "  1.13046486e-02 -5.76651283e-02  6.36117756e-02 -3.59537482e-01\n",
      "  8.21327884e-03 -1.35669500e-01  2.45225877e-02  5.05250812e-01\n",
      "  2.80192107e-01  1.59101620e-01  3.78921539e-01  8.94242004e-02\n",
      " -2.34848689e-02 -3.82894054e-02  5.97334057e-02  1.02941364e-01\n",
      "  4.51421142e-01 -2.52033204e-01  2.55873799e-01 -1.64201155e-01\n",
      " -9.35382023e-02  9.35924649e-02 -1.24296449e-01 -3.18128020e-01\n",
      "  1.29599571e-01 -5.80750942e-01 -1.71134770e-01 -2.72240430e-01\n",
      " -1.22700125e-01  3.45490016e-02 -1.16018452e-01 -1.56596333e-01\n",
      "  3.08199137e-01  2.52656728e-01  2.79677892e-03  1.57264993e-01\n",
      "  3.03145260e-01 -1.62873685e-01 -2.53193706e-01  6.77849129e-02\n",
      "  1.52497679e-01 -6.65057003e-02 -4.16146405e-02 -4.85160142e-01\n",
      " -3.03265840e-01 -1.74794838e-01  3.99798036e-01  7.05258623e-02\n",
      "  1.99675992e-01 -1.00382358e-01 -8.85639489e-02  2.45104596e-01\n",
      "  2.95136452e-01  8.95341337e-02 -1.18153088e-01 -1.87371448e-01\n",
      "  8.91625695e-03 -2.37938151e-01 -2.14815475e-02  1.94890842e-01\n",
      " -1.19087800e-01 -3.48340459e-02 -7.66161680e-02 -2.34727457e-01\n",
      "  2.05477923e-01  2.19373628e-01 -2.49395341e-01 -1.48204956e-02\n",
      " -3.21808755e-02 -3.06283146e-01 -1.56022504e-01 -5.88085018e-02]\n",
      "U.N. :  [ 2.47407138e-01 -1.30409405e-01  1.06699385e-01  5.43524176e-02\n",
      " -1.48735330e-01  4.23443675e-01 -1.71245202e-01  2.32424378e-01\n",
      " -9.30524021e-02 -2.31889129e-01 -3.12521547e-01 -7.90153518e-02\n",
      "  2.90942863e-02  1.07523151e-01  7.26462007e-02  3.82524431e-01\n",
      "  1.65279552e-01  3.96065228e-02 -1.10744677e-01 -6.12890482e-01\n",
      " -4.16685380e-02  2.81597078e-01 -4.01879430e-01  2.83675957e-02\n",
      " -1.56301096e-01 -7.08247945e-02 -3.19342986e-02  2.15078920e-01\n",
      " -7.34748989e-02 -1.15540780e-01  9.63538736e-02 -3.39173436e-01\n",
      "  3.09631005e-02 -1.52700409e-01  3.06263585e-02  5.82520068e-01\n",
      "  2.65586108e-01  2.54174590e-01  3.97317171e-01  3.39630665e-03\n",
      " -5.40553443e-02 -1.18065914e-02  4.16619368e-02  1.47286430e-01\n",
      "  4.47058290e-01 -3.11324358e-01  2.93117195e-01 -1.88205793e-01\n",
      " -9.77644548e-02  1.33646920e-01 -1.36918336e-01 -3.08197111e-01\n",
      "  1.26163870e-01 -5.30907631e-01 -1.31591752e-01 -2.70973265e-01\n",
      " -1.14652388e-01  1.07195832e-01 -2.02631250e-01 -1.06133029e-01\n",
      "  2.95015633e-01  2.86493450e-01  5.60970828e-02  1.05837829e-01\n",
      "  2.73997098e-01 -8.06429759e-02 -2.75567114e-01  1.08644538e-01\n",
      "  1.76484048e-01 -1.09993570e-01 -2.64587868e-02 -4.05042261e-01\n",
      " -3.20806116e-01 -1.70391187e-01  4.08903867e-01  1.25853047e-01\n",
      "  2.04856053e-01 -1.89806998e-01 -6.57323077e-02  1.61732778e-01\n",
      "  3.85617077e-01  7.95665309e-02 -1.54764310e-01 -2.13632405e-01\n",
      " -1.08641908e-01 -2.76126325e-01  1.51459249e-02  2.05973610e-01\n",
      " -2.13672593e-01 -1.39360782e-02 -3.36676463e-02 -2.65857428e-01\n",
      "  2.59787530e-01  1.75042197e-01 -2.13910863e-01 -3.33248434e-04\n",
      " -7.12619498e-02 -2.99237698e-01 -1.75302356e-01 -1.82508513e-01]\n"
     ]
    }
   ],
   "source": [
    "# Closest words respective vector embeddings \n",
    "print(\"Vector representation of the 3 closest words to Nation \\n\")\n",
    "for i, val in enumerate(nation_model):\n",
    "    print(val[0], \": \", model.wv[val[0]] )"
   ]
  },
  {
   "cell_type": "code",
   "execution_count": 9,
   "metadata": {
    "colab": {
     "base_uri": "https://localhost:8080/",
     "height": 71
    },
    "id": "GeEd2e9KaElI",
    "outputId": "7260c8a2-8146-4b74-dc92-f699986e484e"
   },
   "outputs": [],
   "source": [
    "# Calculaing the cosine similarity between the word 'Nation' and the top 3 closest words to it\n",
    "cosine_nation = dict()\n",
    "for i, val  in enumerate(nation_model):\n",
    "  cosine_nation[val[0]] = model.wv.similarity('Nation', val[0])"
   ]
  },
  {
   "cell_type": "code",
   "execution_count": 10,
   "metadata": {
    "colab": {
     "base_uri": "https://localhost:8080/",
     "height": 68
    },
    "id": "HUJfxoJnCeSN",
    "outputId": "adb607f3-a29e-4066-cb5e-91c6c65ecb73"
   },
   "outputs": [
    {
     "name": "stdout",
     "output_type": "stream",
     "text": [
      "Cosine similarity between Nation and  catalogue is:  0.955936\n",
      "Cosine similarity between Nation and  neighborhood is:  0.9547334\n",
      "Cosine similarity between Nation and  U.N. is:  0.9464417\n"
     ]
    }
   ],
   "source": [
    "for i, val in enumerate(cosine_nation):\n",
    "  print('Cosine similarity between Nation and ', val, 'is: ', cosine_nation[val])"
   ]
  },
  {
   "cell_type": "markdown",
   "metadata": {},
   "source": [
    "### Solution 3"
   ]
  },
  {
   "cell_type": "code",
   "execution_count": 13,
   "metadata": {
    "colab": {
     "base_uri": "https://localhost:8080/",
     "height": 34
    },
    "id": "nwjsJrgFaFnR",
    "outputId": "45df4a09-6b57-42ab-af59-4e2806b05fac"
   },
   "outputs": [],
   "source": [
    "# Finding the sentiment of the sentence \"There was no suspense at all\"\n",
    "positive_sentence = \"This is a great movie with lots of suspense\"\n",
    "negative_sentence = \"The movie was predictable and quite boring\"\n",
    "positive_words = positive_sentence.split(' ')\n",
    "negative_words = negative_sentence.split(' ')"
   ]
  },
  {
   "cell_type": "code",
   "execution_count": 14,
   "metadata": {
    "colab": {
     "base_uri": "https://localhost:8080/",
     "height": 340
    },
    "id": "xt2wjsBAGGOJ",
    "outputId": "9903a0f8-7975-4d94-8b57-b15269ed7614"
   },
   "outputs": [
    {
     "data": {
      "text/plain": [
       "-0.0016186733395766656"
      ]
     },
     "execution_count": 14,
     "metadata": {},
     "output_type": "execute_result"
    }
   ],
   "source": [
    "# Calculating the positive average of the embeddings\n",
    "sum_positive = 0 \n",
    "for i in positive_words:\n",
    "  temp_positives = sum(model.wv[i]) / len(model.wv[i])\n",
    "  sum_positive += temp_positives\n",
    "average_positive = sum_positive / len(positive_words)\n",
    "average_positive"
   ]
  },
  {
   "cell_type": "code",
   "execution_count": 15,
   "metadata": {
    "colab": {
     "base_uri": "https://localhost:8080/",
     "height": 153
    },
    "id": "K94owvsFIDft",
    "outputId": "d8182df1-df9c-4486-d7d9-2ae044b607fc"
   },
   "outputs": [
    {
     "data": {
      "text/plain": [
       "0.042659138633337416"
      ]
     },
     "execution_count": 15,
     "metadata": {},
     "output_type": "execute_result"
    }
   ],
   "source": [
    "# Calculating the negative average of the embeddings \n",
    "sum_negative = 0 \n",
    "for i in negative_words:\n",
    "  temp_negatives = sum(model.wv[i]) / len(model.wv[i])\n",
    "  sum_negative += temp_negatives\n",
    "average_negative = sum_negative / len(negative_words)\n",
    "average_negative"
   ]
  },
  {
   "cell_type": "code",
   "execution_count": 16,
   "metadata": {
    "colab": {
     "base_uri": "https://localhost:8080/",
     "height": 238
    },
    "id": "yt3e6QKHe24d",
    "outputId": "2811ea2f-c4c9-4899-9c1f-f0701e35d4f1"
   },
   "outputs": [
    {
     "data": {
      "text/plain": [
       "0.028907550330817083"
      ]
     },
     "execution_count": 16,
     "metadata": {},
     "output_type": "execute_result"
    }
   ],
   "source": [
    "# Calulating the average of the sentence \"There was no suspense at all\"\n",
    "new_sentence = \"There was no suspense at all\"\n",
    "new_words = new_sentence.split(' ')\n",
    "sum_new = 0 \n",
    "for i in new_words:\n",
    "  temp_new = sum(model.wv[i]) / len(model.wv[i])\n",
    "  sum_new += temp_new\n",
    "average_new = sum_new / len(new_words)\n",
    "average_new"
   ]
  },
  {
   "cell_type": "code",
   "execution_count": 19,
   "metadata": {
    "colab": {
     "base_uri": "https://localhost:8080/",
     "height": 34
    },
    "id": "Igf_EpSxjfNV",
    "outputId": "d451f1e3-3cef-47f6-efb6-7695ef7f9027"
   },
   "outputs": [
    {
     "data": {
      "text/plain": [
       "(0.03052622367039375, 0.013751588302520334)"
      ]
     },
     "execution_count": 19,
     "metadata": {},
     "output_type": "execute_result"
    }
   ],
   "source": [
    "# Calculating the distance between average_new and average_positive \n",
    "dist_new_pos = math.sqrt((average_new - average_positive) ** 2)\n",
    "# Calculating the distance between average_new and average_negative\n",
    "dist_new_neg = math.sqrt((average_new - average_negative) ** 2)\n",
    "dist_new_pos, dist_new_neg"
   ]
  },
  {
   "cell_type": "code",
   "execution_count": 18,
   "metadata": {
    "colab": {
     "base_uri": "https://localhost:8080/",
     "height": 34
    },
    "id": "I6YWeZcikVAL",
    "outputId": "ea93fdda-5690-4458-d504-8c43d329605c"
   },
   "outputs": [
    {
     "name": "stdout",
     "output_type": "stream",
     "text": [
      "Final sentiment of the sentence is:  Negative\n"
     ]
    }
   ],
   "source": [
    "final_sentiment = lambda x: x == \"Positive\" if x == dist_new_pos else \"Negative\"\n",
    "print('Final sentiment of the sentence is: ', final_sentiment(min(dist_new_pos, dist_new_neg)))"
   ]
  }
 ],
 "metadata": {
  "colab": {
   "collapsed_sections": [],
   "name": "ques_3_iml.ipynb",
   "provenance": []
  },
  "kernelspec": {
   "display_name": "Python 3",
   "language": "python",
   "name": "python3"
  },
  "language_info": {
   "codemirror_mode": {
    "name": "ipython",
    "version": 3
   },
   "file_extension": ".py",
   "mimetype": "text/x-python",
   "name": "python",
   "nbconvert_exporter": "python",
   "pygments_lexer": "ipython3",
   "version": "3.7.6"
  }
 },
 "nbformat": 4,
 "nbformat_minor": 1
}
