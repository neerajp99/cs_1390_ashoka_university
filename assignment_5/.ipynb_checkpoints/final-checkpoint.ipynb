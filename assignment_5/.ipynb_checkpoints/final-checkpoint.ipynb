{
 "cells": [
  {
   "cell_type": "code",
   "execution_count": 44,
   "metadata": {},
   "outputs": [],
   "source": [
    "import PIL \n",
    "import numpy as np\n",
    "from PIL import Image \n",
    "from numpy import asarray\n",
    "from sklearn.cluster import KMeans\n",
    "import pandas as pd"
   ]
  },
  {
   "cell_type": "code",
   "execution_count": 45,
   "metadata": {},
   "outputs": [
    {
     "name": "stdout",
     "output_type": "stream",
     "text": [
      "(1198, 804, 3)\n"
     ]
    }
   ],
   "source": [
    "# Load image and convert it into a numpy array \n",
    "img = Image.open('mona_lisa.jpg') \n",
    "# Using asarray class to convert into numpy array\n",
    "img_numpy = asarray(img) \n",
    "# Check the shape of the numpy array \n",
    "print(img_numpy.shape)"
   ]
  },
  {
   "cell_type": "code",
   "execution_count": 46,
   "metadata": {},
   "outputs": [
    {
     "name": "stdout",
     "output_type": "stream",
     "text": [
      "(963192, 3)\n"
     ]
    }
   ],
   "source": [
    "# Create kmeans clusters using scikit learn KMeans \n",
    "num_clusters = 256\n",
    "# Rehspae the numpy array into 2D from 3D\n",
    "nsamples, nx, ny = img_numpy.shape\n",
    "numpy_array = img_numpy.reshape((nsamples * nx, ny))\n",
    "print(numpy_array.shape)"
   ]
  },
  {
   "cell_type": "code",
   "execution_count": 47,
   "metadata": {},
   "outputs": [],
   "source": [
    "# Create the clusters \n",
    "kmeans = KMeans(n_clusters = num_clusters).fit(numpy_array)\n",
    "# Get the centroids, labels from the kmeans clusters \n",
    "kmeans_centroids = kmeans.cluster_centers_\n",
    "kmeans_labels = kmeans.labels_ \n",
    "# Reduce the colors where each pixel is represented using only 8 bits.\n",
    "pixel_values = np.array([list(kmeans_centroids[label]) for label in kmeans.labels_])\n",
    "pixel_values = pixel_values.astype('uint8')\n",
    "new_colors = pixel_values.reshape(img_numpy.shape)"
   ]
  },
  {
   "cell_type": "code",
   "execution_count": 48,
   "metadata": {},
   "outputs": [
    {
     "data": {
      "text/html": [
       "<div>\n",
       "<style scoped>\n",
       "    .dataframe tbody tr th:only-of-type {\n",
       "        vertical-align: middle;\n",
       "    }\n",
       "\n",
       "    .dataframe tbody tr th {\n",
       "        vertical-align: top;\n",
       "    }\n",
       "\n",
       "    .dataframe thead th {\n",
       "        text-align: right;\n",
       "    }\n",
       "</style>\n",
       "<table border=\"1\" class=\"dataframe\">\n",
       "  <thead>\n",
       "    <tr style=\"text-align: right;\">\n",
       "      <th></th>\n",
       "      <th>R</th>\n",
       "      <th>G</th>\n",
       "      <th>B</th>\n",
       "    </tr>\n",
       "  </thead>\n",
       "  <tbody>\n",
       "    <tr>\n",
       "      <th>0</th>\n",
       "      <td>82.280977</td>\n",
       "      <td>82.609254</td>\n",
       "      <td>67.264267</td>\n",
       "    </tr>\n",
       "    <tr>\n",
       "      <th>1</th>\n",
       "      <td>147.220773</td>\n",
       "      <td>149.651296</td>\n",
       "      <td>91.902034</td>\n",
       "    </tr>\n",
       "    <tr>\n",
       "      <th>2</th>\n",
       "      <td>42.550314</td>\n",
       "      <td>21.581946</td>\n",
       "      <td>35.914169</td>\n",
       "    </tr>\n",
       "    <tr>\n",
       "      <th>3</th>\n",
       "      <td>230.772793</td>\n",
       "      <td>192.616371</td>\n",
       "      <td>101.745412</td>\n",
       "    </tr>\n",
       "    <tr>\n",
       "      <th>4</th>\n",
       "      <td>125.866818</td>\n",
       "      <td>108.158793</td>\n",
       "      <td>52.536710</td>\n",
       "    </tr>\n",
       "    <tr>\n",
       "      <th>...</th>\n",
       "      <td>...</td>\n",
       "      <td>...</td>\n",
       "      <td>...</td>\n",
       "    </tr>\n",
       "    <tr>\n",
       "      <th>251</th>\n",
       "      <td>38.649465</td>\n",
       "      <td>20.354101</td>\n",
       "      <td>20.584435</td>\n",
       "    </tr>\n",
       "    <tr>\n",
       "      <th>252</th>\n",
       "      <td>113.799117</td>\n",
       "      <td>77.899085</td>\n",
       "      <td>51.373068</td>\n",
       "    </tr>\n",
       "    <tr>\n",
       "      <th>253</th>\n",
       "      <td>106.009821</td>\n",
       "      <td>56.447342</td>\n",
       "      <td>38.081612</td>\n",
       "    </tr>\n",
       "    <tr>\n",
       "      <th>254</th>\n",
       "      <td>139.723378</td>\n",
       "      <td>82.026520</td>\n",
       "      <td>38.012240</td>\n",
       "    </tr>\n",
       "    <tr>\n",
       "      <th>255</th>\n",
       "      <td>25.432880</td>\n",
       "      <td>12.086957</td>\n",
       "      <td>17.231793</td>\n",
       "    </tr>\n",
       "  </tbody>\n",
       "</table>\n",
       "<p>256 rows × 3 columns</p>\n",
       "</div>"
      ],
      "text/plain": [
       "              R           G           B\n",
       "0     82.280977   82.609254   67.264267\n",
       "1    147.220773  149.651296   91.902034\n",
       "2     42.550314   21.581946   35.914169\n",
       "3    230.772793  192.616371  101.745412\n",
       "4    125.866818  108.158793   52.536710\n",
       "..          ...         ...         ...\n",
       "251   38.649465   20.354101   20.584435\n",
       "252  113.799117   77.899085   51.373068\n",
       "253  106.009821   56.447342   38.081612\n",
       "254  139.723378   82.026520   38.012240\n",
       "255   25.432880   12.086957   17.231793\n",
       "\n",
       "[256 rows x 3 columns]"
      ]
     },
     "execution_count": 48,
     "metadata": {},
     "output_type": "execute_result"
    }
   ],
   "source": [
    "# Print the final 256 colors used\n",
    "final_colors_df = pd.DataFrame(kmeans_centroids, columns=[\"R\", \"G\", \"B\"])\n",
    "final_colors_df"
   ]
  },
  {
   "cell_type": "code",
   "execution_count": 49,
   "metadata": {},
   "outputs": [
    {
     "name": "stdout",
     "output_type": "stream",
     "text": [
      "<class 'PIL.Image.Image'>\n",
      "RGB\n",
      "(804, 1198)\n"
     ]
    }
   ],
   "source": [
    "# Create the new image with the clustered color pixels \n",
    "# using fromarray class\n",
    "new_image = Image.fromarray(new_colors) \n",
    "# Type of the image \n",
    "print(type(new_image)) \n",
    "# Mode of the image\n",
    "print(new_image.mode) \n",
    "# Size the new image \n",
    "print(new_image.size)\n",
    "new_image.save('mona_lisa_compressed.jpeg')\n",
    "new_image.show()"
   ]
  }
 ],
 "metadata": {
  "kernelspec": {
   "display_name": "Python 3",
   "language": "python",
   "name": "python3"
  },
  "language_info": {
   "codemirror_mode": {
    "name": "ipython",
    "version": 3
   },
   "file_extension": ".py",
   "mimetype": "text/x-python",
   "name": "python",
   "nbconvert_exporter": "python",
   "pygments_lexer": "ipython3",
   "version": "3.7.6"
  }
 },
 "nbformat": 4,
 "nbformat_minor": 2
}
