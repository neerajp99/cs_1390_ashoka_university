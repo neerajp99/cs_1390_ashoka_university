{
 "cells": [
  {
   "cell_type": "code",
   "execution_count": 119,
   "metadata": {},
   "outputs": [],
   "source": [
    "import numpy as np\n",
    "import pandas as pd \n",
    "from sklearn.preprocessing import LabelEncoder\n",
    "from sklearn.model_selection import train_test_split\n",
    "from sklearn.tree import DecisionTreeClassifier\n",
    "from sklearn.metrics import accuracy_score\n",
    "from sklearn.metrics import confusion_matrix\n",
    "from sklearn.metrics import precision_score\n",
    "from sklearn.metrics import recall_score"
   ]
  },
  {
   "cell_type": "code",
   "execution_count": 120,
   "metadata": {},
   "outputs": [],
   "source": [
    "data = pd.read_csv('wdbc.data', header=None)"
   ]
  },
  {
   "cell_type": "code",
   "execution_count": 121,
   "metadata": {},
   "outputs": [],
   "source": [
    "# Shuffle the DataFrame rows \n",
    "data = data.sample(frac = 1) "
   ]
  },
  {
   "cell_type": "code",
   "execution_count": 122,
   "metadata": {},
   "outputs": [],
   "source": [
    "# Pre-process the data \n",
    "X = data.drop(data.columns[1], axis=1)\n",
    "X = np.array(X)\n",
    "X = X.astype(float) \n",
    "Y = data[1]\n",
    "# Convert benign and malignant characters to 0's and 1's from B's and M's\n",
    "# for i, val in enumerate(Y):\n",
    "#     if val == \"B\":\n",
    "#         Y[i] = 0\n",
    "#     else:\n",
    "#         Y[i] = 1\n",
    "# Scikit learn label encoder can also be used for this purpose\n",
    "le_Y = LabelEncoder()\n",
    "Y = le_Y.fit_transform(Y)\n",
    "# Converting into a numpy array \n",
    "Y = np.array(Y)\n",
    "# Cast a numpy array to a specified float dtype, else unknown error will be thrown\n",
    "Y = Y.astype(float) \n",
    "    "
   ]
  },
  {
   "cell_type": "code",
   "execution_count": 123,
   "metadata": {},
   "outputs": [],
   "source": [
    "# Method to split data into 70% Train and 30% Test data\n",
    "# def split_data(df, X, Y):\n",
    "#     arr_rand = np.random.rand(df.shape[0])\n",
    "#     split = arr_rand < np.percentile(arr_rand, 80)\n",
    "    \n",
    "#     X_train = X[split]\n",
    "#     Y_train = Y[split]\n",
    "#     X_test =  X[~split]\n",
    "#     Y_test = Y[~split]\n",
    "\n",
    "#     return X_train, Y_train, X_test, Y_test"
   ]
  },
  {
   "cell_type": "code",
   "execution_count": 124,
   "metadata": {},
   "outputs": [],
   "source": [
    "# Skikit learn train_test_split function\n",
    "X_train, X_test, Y_train, Y_test = train_test_split(X, Y, test_size = 0.2, random_state = 0)\n",
    "\n",
    "# Custom Splitting of the data can also be used\n",
    "# X_train, Y_train, X_test, Y_test = split_data(data, X, Y)  "
   ]
  },
  {
   "cell_type": "code",
   "execution_count": 125,
   "metadata": {},
   "outputs": [
    {
     "data": {
      "text/plain": [
       "DecisionTreeClassifier(random_state=0)"
      ]
     },
     "execution_count": 125,
     "metadata": {},
     "output_type": "execute_result"
    }
   ],
   "source": [
    "clf = DecisionTreeClassifier(random_state = 0)\n",
    "clf.fit(X_train, Y_train)"
   ]
  },
  {
   "cell_type": "code",
   "execution_count": 126,
   "metadata": {},
   "outputs": [],
   "source": [
    "# Predicting the y-values\n",
    "Y_prediction = clf.predict(X_test)"
   ]
  },
  {
   "cell_type": "code",
   "execution_count": 127,
   "metadata": {},
   "outputs": [
    {
     "name": "stdout",
     "output_type": "stream",
     "text": [
      "Accuracy:  0.8771929824561403\n",
      "Confusion Matrix:\n",
      " [[68  9]\n",
      " [ 5 32]]\n",
      "Precision Score:  0.7804878048780488\n",
      "Recall Score:  0.8648648648648649\n"
     ]
    }
   ],
   "source": [
    "# Getting the accuracy of the model\n",
    "print('Accuracy: ', accuracy_score(Y_test, Y_prediction))\n",
    "# 0.90\n",
    "\n",
    "# # Getting the confusion matrix\n",
    "print('Confusion Matrix:\\n', confusion_matrix(Y_test, Y_prediction))\n",
    "\n",
    "# # Precision score\n",
    "print('Precision Score: ', precision_score(Y_test, Y_prediction))\n",
    "\n",
    "# # Recall score\n",
    "print('Recall Score: ', recall_score(Y_test, Y_prediction))\n",
    "\n",
    "# TRUE POSITIVE"
   ]
  },
  {
   "cell_type": "code",
   "execution_count": null,
   "metadata": {},
   "outputs": [],
   "source": []
  }
 ],
 "metadata": {
  "kernelspec": {
   "display_name": "Python 3",
   "language": "python",
   "name": "python3"
  },
  "language_info": {
   "codemirror_mode": {
    "name": "ipython",
    "version": 3
   },
   "file_extension": ".py",
   "mimetype": "text/x-python",
   "name": "python",
   "nbconvert_exporter": "python",
   "pygments_lexer": "ipython3",
   "version": "3.7.6"
  }
 },
 "nbformat": 4,
 "nbformat_minor": 2
}
